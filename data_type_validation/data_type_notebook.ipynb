{
 "cells": [
  {
   "cell_type": "markdown",
   "id": "c69ff1fc",
   "metadata": {},
   "source": [
    "# Data type identification\n",
    "The purpose of this notebook is to classify the type of data as either continuous or categorical to be used in PIC-SURE. \n",
    "\n",
    "- Input: `decoded_data` S3 directory, output file location in picsure-metadata-curation directory\n",
    "- Output: csv file of interpreted data types, encoded value, and file location"
   ]
  },
  {
   "cell_type": "code",
   "execution_count": null,
   "id": "04b39c16",
   "metadata": {},
   "outputs": [],
   "source": [
    "# Do imports \n",
    "import glob\n",
    "import pandas as pd\n",
    "import numpy as np"
   ]
  },
  {
   "cell_type": "markdown",
   "id": "1d155301",
   "metadata": {},
   "source": [
    "Step 1: Identify variable types based on pandas dataframe types. "
   ]
  },
  {
   "cell_type": "code",
   "execution_count": null,
   "id": "ea435547",
   "metadata": {},
   "outputs": [],
   "source": [
    "def identify_var_types(file_path):\n",
    "    '''Takes input file path with decoded data. \n",
    "    Returns a dataframe with variable name, type, and file information.'''\n",
    "    decoded_files = glob.glob(file_path)\n",
    "    decoded_files = decoded_files[0:3]\n",
    "    if len(decoded_files) < 1:\n",
    "        print(\"No files found, please check input directory.\")\n",
    "        return('')\n",
    "    for file in decoded_files:\n",
    "        decoded_df = pd.read_csv(file)\n",
    "        stripped_file_name = file.split('/')[-1]\n",
    "        if file == decoded_files[0]:\n",
    "            res = decoded_df.dtypes.to_frame('raw_type').reset_index().astype(\"string\")\n",
    "            res['picsure_type'] = np.where(res['raw_type'] == 'object', 'categorical', 'continuous')\n",
    "            res['file'] = stripped_file_name\n",
    "            #res.columns[0] = 'NAME'\n",
    "        else:\n",
    "            other_res = decoded_df.dtypes.to_frame('raw_type').reset_index().astype(\"string\")\n",
    "            other_res['picsure_type'] = np.where(other_res['raw_type'] == 'object', 'categorical', 'continuous')\n",
    "            other_res['file'] = stripped_file_name\n",
    "            #other_res.columns[0] = 'NAME'\n",
    "            res = res.append(other_res)\n",
    "    res = res.rename(columns={'index':'varname'}).reset_index()\n",
    "    return(res)"
   ]
  },
  {
   "cell_type": "code",
   "execution_count": null,
   "id": "883429cb",
   "metadata": {},
   "outputs": [],
   "source": [
    "file_dir = '/home/ec2-user/SageMaker/studies/ALL-avillach-73-bdcatalyst-etl/csscd/decoded_data/'\n",
    "csscd = identify_var_types(file_dir+'*')\n",
    "csscd"
   ]
  },
  {
   "cell_type": "markdown",
   "id": "0175b14b",
   "metadata": {},
   "source": [
    "Step 2: Compare with SAS data types.\n",
    "\n",
    "Before proceeding, we will need to manually curate the \"file\" column to match the SAS file names. "
   ]
  },
  {
   "cell_type": "code",
   "execution_count": null,
   "id": "58460d28",
   "metadata": {},
   "outputs": [],
   "source": [
    "# Manual curation of the \"file\" column\n",
    "new = csscd['file'].str.split(\"_\", expand=True)\n",
    "new = new[1].str.split('.', expand=True)\n",
    "csscd['df'] = new[0].str.upper()\n",
    "csscd"
   ]
  },
  {
   "cell_type": "code",
   "execution_count": null,
   "id": "0222d459",
   "metadata": {},
   "outputs": [],
   "source": [
    "def check_against_sas(sas_file, picsure_type_df):\n",
    "    '''Takes file path of SAS file to check variables.\n",
    "    Output is comparison df.'''\n",
    "    sas_df = pd.read_csv(sas_file)\n",
    "    sas_df.loc[sas_df[\"TYPE\"] == 1, \"TYPE\"] = 'categorical'\n",
    "    sas_df.loc[sas_df[\"TYPE\"] == 2, \"TYPE\"] = 'continuous'\n",
    "    sas_df = sas_df[['LIBNAME', 'MEMNAME', 'NAME', 'TYPE', 'LABEL', 'FORMAT']]\n",
    "    full = pd.merge(picsure_type_df, sas_df, how = 'left', left_on=['varname', 'df'], right_on=['NAME', 'MEMNAME'])\n",
    "    full['type_match'] = full['picsure_type'] == full['TYPE']\n",
    "    full = full[['varname', 'raw_type', 'picsure_type', 'file', 'df', 'MEMNAME', 'NAME', 'TYPE', 'LABEL', 'type_match', 'FORMAT']]\n",
    "    return(full)"
   ]
  },
  {
   "cell_type": "code",
   "execution_count": null,
   "id": "8216bffd",
   "metadata": {},
   "outputs": [],
   "source": [
    "comparison = check_against_sas('/home/ec2-user/SageMaker/studies/ALL-avillach-73-bdcatalyst-etl/csscd/sas_files/PHASE1_METADATA.csv', \n",
    "                            csscd)\n",
    "comparison[comparison['type_match'] == False].reset_index()"
   ]
  },
  {
   "cell_type": "markdown",
   "id": "9078cf63",
   "metadata": {},
   "source": [
    "Step 3: Peek at data to check disagreements between pandas and SAS."
   ]
  },
  {
   "cell_type": "code",
   "execution_count": null,
   "id": "6b16c562",
   "metadata": {},
   "outputs": [],
   "source": [
    "def parse_data(comparison_df, directory, file_info):\n",
    "    file_name = directory+file_info['file'][0]\n",
    "    pandas_type = file_info['picsure_type'][0]\n",
    "    sas_type = file_info['TYPE'][0]\n",
    "    varname = file_info['varname'][0]\n",
    "    print(\"Information for variable\", varname)\n",
    "    print(\"\\tpandas type:\", pandas_type)\n",
    "    print(\"\\tSAS type:\", sas_type)\n",
    "    df = pd.read_csv(file_name)\n",
    "    print(\"Values in decoded data:\")\n",
    "    print(df[varname].unique())\n",
    "\n",
    "def check_data(comparison_df, directory, varname=None):\n",
    "    '''Allows for manual check of the decoded data.'''\n",
    "    if varname is not None:\n",
    "        file_info = comparison_df.loc[comparison_df['varname'] == varname].reset_index()\n",
    "        print(type(file_info))\n",
    "        parse_data(comparison_df, directory, file_info)\n",
    "    else:\n",
    "        mismatch = comparison_df[comparison_df['type_match'] == False].reset_index()\n",
    "        inds = list(np.random.choice(mismatch.shape[0], 5, replace=False))\n",
    "        print(inds)\n",
    "        for ind in inds:\n",
    "            print(comparison_df['varname'][ind])\n",
    "            file_info = pd.DataFrame(comparison_df.iloc[ind])\n",
    "            print(file_info)\n",
    "            parse_data(comparison_df, directory, file_info)"
   ]
  },
  {
   "cell_type": "code",
   "execution_count": null,
   "id": "6bc4c490",
   "metadata": {},
   "outputs": [],
   "source": [
    "# Can do manual check of specific variable by specifying varname parameter\n",
    "check_data(comparison, file_dir, varname='F02OC_R')"
   ]
  },
  {
   "cell_type": "code",
   "execution_count": null,
   "id": "2009adb9",
   "metadata": {},
   "outputs": [],
   "source": [
    "# Have this choose 5 variables randomly and compare\n",
    "check_data(comparison, file_dir)"
   ]
  },
  {
   "cell_type": "code",
   "execution_count": null,
   "id": "b6d6cfb3",
   "metadata": {},
   "outputs": [],
   "source": [
    "print(\"Manual curation says: continuous\\nSAS file says: categorical\") # DID work\n",
    "print(check_data('F03CYCLE', comparison, file_dir))"
   ]
  },
  {
   "cell_type": "code",
   "execution_count": null,
   "id": "fdd89c94",
   "metadata": {},
   "outputs": [],
   "source": [
    "# Output varname, file and type (maybe file and MEMNAME)\n",
    "# Add check to make sure all variables in data are in SAS files as well\n",
    "# Only output the identified variable type - NOT the sas variable type"
   ]
  }
 ],
 "metadata": {
  "kernelspec": {
   "display_name": "conda_python3",
   "language": "python",
   "name": "conda_python3"
  },
  "language_info": {
   "codemirror_mode": {
    "name": "ipython",
    "version": 3
   },
   "file_extension": ".py",
   "mimetype": "text/x-python",
   "name": "python",
   "nbconvert_exporter": "python",
   "pygments_lexer": "ipython3",
   "version": "3.6.13"
  }
 },
 "nbformat": 4,
 "nbformat_minor": 5
}

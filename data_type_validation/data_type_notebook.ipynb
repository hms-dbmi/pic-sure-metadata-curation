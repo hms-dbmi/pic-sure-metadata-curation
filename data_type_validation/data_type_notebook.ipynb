{
 "cells": [
  {
   "cell_type": "markdown",
   "id": "fcea8004",
   "metadata": {},
   "source": [
    "# Data type identification\n",
    "The purpose of this notebook is to classify the type of data as either continuous or categorical to be used in PIC-SURE. \n",
    "\n",
    "- Input: `decoded_data` S3 directory, output file location in picsure-metadata-curation directory\n",
    "- Output: csv file of interpreted data types, encoded value, and file location"
   ]
  },
  {
   "cell_type": "code",
   "execution_count": null,
   "id": "eeac3dca",
   "metadata": {},
   "outputs": [],
   "source": [
    "# Do imports\n",
    "import pandas as pd\n",
    "from data_type_utils import identify_var_types, check_against_sas, parse_data, check_data, output_results"
   ]
  },
  {
   "cell_type": "markdown",
   "id": "808c306d",
   "metadata": {},
   "source": [
    "### Step 1: Identify variable types based on pandas dataframe types. "
   ]
  },
  {
   "cell_type": "code",
   "execution_count": null,
   "id": "7a22ccec",
   "metadata": {},
   "outputs": [],
   "source": [
    "file_dir = '/home/ec2-user/SageMaker/studies/ALL-avillach-73-bdcatalyst-etl/walk-phasst/decoded_data/'\n",
    "decoded_df = identify_var_types(file_dir+'*')\n",
    "decoded_df['file'].unique()"
   ]
  },
  {
   "cell_type": "markdown",
   "id": "f53726c0",
   "metadata": {},
   "source": [
    "### Step 2: Compare with SAS data types.\n",
    "\n",
    "Before proceeding, we will need to manually curate the `file` column to match the SAS file names. Specifically the column `df` should match the `MEMNAME` column in the SAS file."
   ]
  },
  {
   "cell_type": "code",
   "execution_count": null,
   "id": "b9d847a1",
   "metadata": {},
   "outputs": [],
   "source": [
    "# Peek at SAS file to get an understanding of how to format the DF for merging\n",
    "test = pd.read_csv('/home/ec2-user/SageMaker/studies/ALL-avillach-73-bdcatalyst-etl/walk-phasst/sas_files/WALKPHASST_METADATA.csv')\n",
    "test['MEMNAME'].unique()"
   ]
  },
  {
   "cell_type": "code",
   "execution_count": null,
   "id": "405ebbf3",
   "metadata": {},
   "outputs": [],
   "source": [
    "# Manual curation of the \"file\" column\n",
    "#new = decoded_df['file'].str.replace(\"pfu_\", '')\n",
    "new = decoded_df['file'].str.replace('.csv', '')\n",
    "new = new.str.replace(\"lab_t_r\", \"labt_r\")\n",
    "#new.unique()\n",
    "decoded_df['df'] = new.str.upper()\n",
    "decoded_df\n",
    "#new = csscd['file'].str.split(\"_\", expand=True)\n",
    "#new = new[1].str.split('.', expand=True)\n",
    "#new\n",
    "#dfs = []\n",
    "#for i, df in enumerate(new):\n",
    "#    if df.upper() in [\"LAB_T_R\"]:\n",
    "#        #new['df'] = df.upper()\n",
    "#        dfs.append(\"LABT_R\")\n",
    "#    else:\n",
    "#        #new['df'] = df.upper()+\"_PUBN\"\n",
    "#        dfs.append(df.upper())\n",
    "#decoded_df['df'] = dfs\n",
    "\n",
    "#csscd['df'] = new[0].str.upper()\n",
    "#csscd"
   ]
  },
  {
   "cell_type": "code",
   "execution_count": null,
   "id": "6e613264",
   "metadata": {},
   "outputs": [],
   "source": [
    "# Be sure to change the directory to the correct metadata file\n",
    "comparison = check_against_sas('/home/ec2-user/SageMaker/studies/ALL-avillach-73-bdcatalyst-etl/walk-phasst/sas_files/WALKPHASST_METADATA.csv', \n",
    "                            decoded_df)\n",
    "mismatch_comparison = comparison[comparison['type_match'] == False].reset_index()\n",
    "mismatch_comparison"
   ]
  },
  {
   "cell_type": "markdown",
   "id": "551d7b2a",
   "metadata": {},
   "source": [
    "The dataframe above displays the variables where the pandas variable type does not match the SAS variable type."
   ]
  },
  {
   "cell_type": "code",
   "execution_count": null,
   "id": "0d11daf2",
   "metadata": {},
   "outputs": [],
   "source": [
    "data_only = comparison[comparison['_merge'] != 'both'].reset_index()\n",
    "data_only#['df'].unique()"
   ]
  },
  {
   "cell_type": "markdown",
   "id": "e46dc230",
   "metadata": {},
   "source": [
    "The dataframe above displays the variables where the variable only exists in the data file and *not* the SAS file. As a sanity check, this dataframe should be empty. In other words, all variables in the data file should exist in the SAS information."
   ]
  },
  {
   "cell_type": "markdown",
   "id": "f8f95479",
   "metadata": {},
   "source": [
    "### Step 3: Peek at data to check disagreements between pandas and SAS.\n",
    "\n",
    "The following code allows us to select a variable from the dataframe displayed above and peek at the data. "
   ]
  },
  {
   "cell_type": "code",
   "execution_count": null,
   "id": "32bf2f3c",
   "metadata": {},
   "outputs": [],
   "source": [
    "# Can do manual check of specific variable by specifying varname parameter\n",
    "#check_data(mismatch_comparison, file_dir, varname='F04REV')"
   ]
  },
  {
   "cell_type": "code",
   "execution_count": null,
   "id": "d7ecb449",
   "metadata": {},
   "outputs": [],
   "source": [
    "# This cell randomly chooses 5 of the variables to display sanity check\n",
    "check_data(mismatch_comparison, file_dir)"
   ]
  },
  {
   "cell_type": "markdown",
   "id": "cd96bf70",
   "metadata": {},
   "source": [
    "### Step 4: Output the variable type information\n",
    "The final step is to output the identified variable type information to be used in the curation process of the metadata JSON file. This file should include the output variable name, vairable label, file name, and type (could perhaps include the SAS file and MEMNAME). \n",
    "\n",
    "Note that this file should be saved in the `intermediates` folder of the study folder in the pic-sure-metadata-curation repo. For example: `pic-sure-metadata-curation/csscd/intermediates/`."
   ]
  },
  {
   "cell_type": "code",
   "execution_count": null,
   "id": "3a5dd064",
   "metadata": {},
   "outputs": [],
   "source": [
    "output_results(comparison, \n",
    "               \"/home/ec2-user/SageMaker/pic-sure-metadata-curation/walk-phasst/intermediates/walk-phasst_data_info.csv\")"
   ]
  },
  {
   "cell_type": "code",
   "execution_count": null,
   "id": "657b6d83",
   "metadata": {},
   "outputs": [],
   "source": [
    "# Data type validation and identification\n",
    "# Reports folder in each study\n",
    "# Each variable has a report file\n",
    "# Each study has a variable report overview\n",
    "\n",
    "# Next steps\n",
    "# Expand current pipeline to include dbGaP studies\n",
    "# Spit out mapping2_postanalyzer.csv\n",
    "# Use TEXT/NUMERIC instead of continuous/categorical"
   ]
  },
  {
   "cell_type": "code",
   "execution_count": null,
   "id": "1f87dc72",
   "metadata": {},
   "outputs": [],
   "source": []
  }
 ],
 "metadata": {
  "kernelspec": {
   "display_name": "conda_python3",
   "language": "python",
   "name": "conda_python3"
  },
  "language_info": {
   "codemirror_mode": {
    "name": "ipython",
    "version": 3
   },
   "file_extension": ".py",
   "mimetype": "text/x-python",
   "name": "python",
   "nbconvert_exporter": "python",
   "pygments_lexer": "ipython3",
   "version": "3.6.13"
  }
 },
 "nbformat": 4,
 "nbformat_minor": 5
}

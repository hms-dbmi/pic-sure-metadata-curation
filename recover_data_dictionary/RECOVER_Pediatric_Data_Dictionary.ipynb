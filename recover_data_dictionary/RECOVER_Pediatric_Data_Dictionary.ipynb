{
 "cells": [
  {
   "cell_type": "markdown",
   "metadata": {},
   "source": [
    "# *[ARCHIVED]* RECOVER Pediatric PIC-SURE Data Dictionary\n",
    "\n",
    "**ARCHIVED**\n",
    "\n",
    "This notebook created the RECOVER Pediatric Cohort Data Dictionary using the RECOVER Peds data available via the PIC-SURE API. However, this file is no longer created with updated versions of the RECOVER datasets. This code is being posted in the GitHub repository since it contains helpful code pieces for data QA tests."
   ]
  },
  {
   "cell_type": "markdown",
   "metadata": {},
   "source": [
    "## General testing notes\n",
    "The dataset QA tests that are run below perform these main functions:\n",
    "1. Get all variables from the data dictionary for a given study\n",
    "2. Run an \"anyof\" query using all of these variables\n",
    "\n",
    "Running the query would return errors where the variable did not have any participant information associated with a given variable. "
   ]
  },
  {
   "cell_type": "code",
   "execution_count": null,
   "metadata": {},
   "outputs": [],
   "source": [
    "# Do installs\n",
    "import sys\n",
    "import pandas as pd\n",
    "import re\n",
    "import pyarrow.feather as feather\n",
    "import numpy as np"
   ]
  },
  {
   "cell_type": "markdown",
   "metadata": {},
   "source": [
    "## Step 1: Gather data from PIC-SURE API (or load existing data)\n",
    "In this step, we get:\n",
    "1. PIC-SURE Dictionary for RECOVER Pediatric cohort\n",
    "2. Participant-level data for RECOVER Pediatric cohort"
   ]
  },
  {
   "cell_type": "code",
   "execution_count": null,
   "metadata": {},
   "outputs": [],
   "source": [
    "# Do imports for PIC-SURE API\n",
    "!{sys.executable} -m pip install --upgrade --force-reinstall git+https://github.com/hms-dbmi/pic-sure-python-client.git\n",
    "!{sys.executable} -m pip install --upgrade --force-reinstall git+https://github.com/hms-dbmi/pic-sure-python-adapter-hpds.git\n",
    "!{sys.executable} -m pip install --upgrade --force-reinstall git+https://github.com/hms-dbmi/pic-sure-biodatacatalyst-python-adapter-hpds.git\n",
    "import PicSureClient\n",
    "import PicSureBdcAdapter"
   ]
  },
  {
   "cell_type": "code",
   "execution_count": null,
   "metadata": {},
   "outputs": [],
   "source": [
    "# Connect to PIC-SURE API\n",
    "PICSURE_network_URL = \"https://picsure.biodatacatalyst.nhlbi.nih.gov/picsure\"\n",
    "token_file = \"token.txt\"\n",
    "\n",
    "with open(token_file, \"r\") as f:\n",
    "    my_token = f.read()\n",
    "    \n",
    "bdc = PicSureBdcAdapter.Adapter(PICSURE_network_URL, my_token)"
   ]
  },
  {
   "cell_type": "code",
   "execution_count": null,
   "metadata": {},
   "outputs": [],
   "source": [
    "# Search for RECOVER Pediatric (phs003461) variables in PIC-SURE Dictionary\n",
    "dictionary = bdc.useDictionary().dictionary() # Set up the dictionary\n",
    "all_variables = dictionary.find(\"phs003461\") # Retrieve all variables you have access to\n",
    "search_vars = all_variables.dataframe()\n",
    "recover_vars = search_vars[search_vars.studyId == \"phs003461\"]"
   ]
  },
  {
   "cell_type": "code",
   "execution_count": null,
   "metadata": {},
   "outputs": [],
   "source": [
    "halfway = int(len(recover_vars)/2)\n",
    "first_half = recover_vars[0:halfway]\n",
    "second_half = recover_vars[halfway:]"
   ]
  },
  {
   "cell_type": "code",
   "execution_count": null,
   "metadata": {},
   "outputs": [],
   "source": [
    "# Get RECOVER Pediatric data\n",
    "# Note: The RECOVER data is currently too large to export in one query, which is why two queries are created and executed\n",
    "authPicSure = bdc.useAuthPicSure()\n",
    "test_query1 = authPicSure.query()\n",
    "test_query2 = authPicSure.query()\n",
    "test_query1.anyof().add(first_half.HPDS_PATH)\n",
    "test_query2.anyof().add(second_half.HPDS_PATH)\n",
    "recover_results1 = test_query1.getResultsDataFrame(low_memory = False)\n",
    "recover_results2 = test_query2.getResultsDataFrame(low_memory = False)"
   ]
  },
  {
   "cell_type": "code",
   "execution_count": null,
   "metadata": {},
   "outputs": [],
   "source": [
    "recover_results1.head()"
   ]
  },
  {
   "cell_type": "code",
   "execution_count": null,
   "metadata": {},
   "outputs": [],
   "source": [
    "recover_results2.head()"
   ]
  },
  {
   "cell_type": "code",
   "execution_count": null,
   "metadata": {},
   "outputs": [],
   "source": [
    "# Merge the results of the two queries\n",
    "recover_results = recover_results1.merge(recover_results2, on = [\"patient_id\", \"\\\\_Parent Study Accession with Subject ID\\\\\",\n",
    "                                                                 \"\\\\_Topmed Study Accession with Subject ID\\\\\", \"\\\\_consents\\\\\"],\n",
    "                                                            how = 'outer')"
   ]
  },
  {
   "cell_type": "code",
   "execution_count": null,
   "metadata": {},
   "outputs": [],
   "source": [
    "# Save as files to not rely on dev environment\n",
    "feather.write_feather(recover_results, 'recover_peds_export')\n",
    "feather.write_feather(recover_vars, 'recover_peds_variable_info')"
   ]
  },
  {
   "cell_type": "code",
   "execution_count": null,
   "metadata": {},
   "outputs": [],
   "source": [
    "# Load previously saved files\n",
    "recover_vars = feather.read_feather('recover_variable_info')\n",
    "recover_results = feather.read_feather('recover_export')"
   ]
  },
  {
   "cell_type": "markdown",
   "metadata": {},
   "source": [
    "## Step 2: Create Data Dictionary - Define Functions\n",
    "Set up the functions to review the data and create the data dictionary\n",
    "Dataframe/Data Dictionary plan\n",
    "\n",
    "| Variable / Field Name | Field Label | Subcohort | Dataset | Data Type | Field Attributes | Mapped Instrument | Number of participants |\n",
    "| ------ | ----- | ----- | ----- | ----- | ----- | ----- | ----- |\n",
    "| Encoded variable name | Decoded Variable Description | Pediatric, Pedtiatric Caregiver, or Pediatric Congenital | Dataset Name | Continuous or Categorical | Continuous: min/max/mean, Categorical: Date, ID, or # top 6 values | RedCap Instrument mapping | Number of participants with values |\n",
    "| PIC-SURE name | PIC-SURE decoded description | Based on PIC-SURE variable group | Order enrollment enrollment, then enrollment demographics, then the other enrollment, then the follow up, then biospecimens, then fitbit | PIC-SURE data type | Continuous - only show 2 digits after decimal, Categorical: do top 6 values defined by number of participants with values | Based on document shared | Number of participants with values |\n"
   ]
  },
  {
   "cell_type": "code",
   "execution_count": null,
   "metadata": {},
   "outputs": [],
   "source": [
    "# Not all columns needed for RECOVER Pediatrics Data dictionary\n",
    "simplified = recover_vars[['columnmeta_var_id', 'columnmeta_description', 'columnmeta_var_group_id', \n",
    "             'columnmeta_var_group_description', 'columnmeta_data_type', 'columnmeta_min', \n",
    "             'columnmeta_max', 'values', 'HPDS_PATH']]"
   ]
  },
  {
   "cell_type": "code",
   "execution_count": null,
   "metadata": {},
   "outputs": [],
   "source": [
    "# First identify subcohort and separate based on this, since there are different codebooks for each subcohort\n",
    "subcohort = []\n",
    "for path in simplified['HPDS_PATH']:\n",
    "    if \"recover_pediatric_caregiver\" in path:\n",
    "        subcohort.append(\"Pediatric Caregiver\")\n",
    "    elif \"recover_pediatric_congenital\" in path:\n",
    "        subcohort.append(\"Pediatric Congenital\")\n",
    "    elif \"recover_pediatric\\\\\" in path:\n",
    "        subcohort.append(\"Pediatric\")\n",
    "    else:\n",
    "        subcohort.append(\"Not found\")\n",
    "\n",
    "print(set(subcohort)) # Confirm that there are no instances of \"Not Found\"\n",
    "\n",
    "# Add subcohort information to simplified dataframe\n",
    "simplified.loc[:,'Subcohort'] = subcohort"
   ]
  },
  {
   "cell_type": "code",
   "execution_count": null,
   "metadata": {},
   "outputs": [],
   "source": [
    "# Separate the variables from the three subcohorts\n",
    "simplified_peds = simplified[simplified.Subcohort == \"Pediatric\"]\n",
    "simplified_congenital = simplified[simplified.Subcohort == \"Pediatric Congenital\"]\n",
    "simplified_caregiver = simplified[simplified.Subcohort == \"Pediatric Caregiver\"]"
   ]
  },
  {
   "cell_type": "markdown",
   "metadata": {},
   "source": [
    "### Starting with RedCap mapping for Pediatric subcohort\n",
    "RedCap codebooks found here: https://bdcatalyst.gitbook.io/biodata-catalyst-documentation/written-documentation/nih-recover-release-notes "
   ]
  },
  {
   "cell_type": "code",
   "execution_count": null,
   "metadata": {},
   "outputs": [],
   "source": [
    "# Start with identifying the datasets used to map to instruments from RedCap form\n",
    "picsure_dt = list(simplified_peds['columnmeta_var_group_id'].unique())\n",
    "picsure_dt.sort()\n",
    "print(picsure_dt)"
   ]
  },
  {
   "cell_type": "code",
   "execution_count": null,
   "metadata": {},
   "outputs": [],
   "source": [
    "# Map to RedCap instruments manually with human-readable name\n",
    "peds_instrument_mapping = {\n",
    "    \"enrollment\": \"Enrollment\",\n",
    "    \"consent_tracking_tier_12\": \"Consent Tracking Tier 12\",\n",
    "    \"visit_form\": \"Visit Form\",\n",
    "    \"identity\": \"Identity\",\n",
    "    \"demographics\": \"Demographics\",\n",
    "    \"child_birth_history\": \"Child Birth History\",\n",
    "    \"child_current_health_status\": \"Child Current Health Status\",\n",
    "    \"special_health_care_needs_screener\": \"Special Health Care Needs Screener\",\n",
    "    \"promis\": \"Promis\",\n",
    "    \"current_covid_infection_history\": \"Current Covid Infection History\",\n",
    "    \"first_covid_infection_history\": \"First Covid Infection History\",\n",
    "    \"most_recent_covid_infection_history\": \"Most Recent Covid Infection History\",\n",
    "    \"weekly_covid_infection_history\": \"Weekly Covid Infection History\",\n",
    "    \"covid_infection_history_followup\": \"Covid Infection History Followup\",\n",
    "    \"misc_and_pots\": \"Misc And Pots\",\n",
    "    \"covid_testing_history\": \"Covid Testing History\",\n",
    "    \"covid_family_infection\": \"Covid Family Infection\",\n",
    "    \"covid_symptoms\": \"Covid Symptoms\",\n",
    "    \"compass31\": \"Compass31\",\n",
    "    \"covid_vaccine_history\": \"Covid Vaccine History\",\n",
    "    \"covid_health_consequences\": \"Covid Health Consequences\",\n",
    "    \"child_social_determinants_of_health\": \"Child Social Determinants Of Health\",\n",
    "    \"child_wellbeing\": \"Child Wellbeing\",\n",
    "    # PART TWO\n",
    "    #\"Adolescent Wellbeing\"\n",
    "    \"asq\": \"Asq\",\n",
    "    \"behavior_checklist\": \"Behavior Checklist\",\n",
    "    #\"End Of Surveys\"\n",
    "    \"anthropometry\": \"Anthropometry\",\n",
    "    \"active_standing_test\":\"Active Standing Test\",\n",
    "    \"electrocardiogram\": \"Electrocardiogram\",\n",
    "    #\"Electrocardiogram Reading Center\"\n",
    "    \"spirometry\": \"Spirometry\",\n",
    "    #\"Pft Reading Center\"\n",
    "    'beighton_scale_for_joint_hypermobility': \"Beighton Scale For Joint Hypermobility\",\n",
    "    'nih_toolbox': \"NIH Toolbox\",\n",
    "    'pulse_oximetry': \"Pulse Oximetry\",\n",
    "    'clinical_labs': \"Clinical Labs\",\n",
    "    'research_labs': \"Research Labs\",\n",
    "    'biospecimens': \"Biospecimens\",\n",
    "    'antibody_test_results': \"Antibody Test Results\",\n",
    "    'arup_test_results': \"Arup Test Results\",\n",
    "    \"promote_to_followup\": \"Promote To Followup\",\n",
    "    #\"Select For Tier 3\"\n",
    "    'echocardiogram': \"Echocardiogram\",\n",
    "    #\"Echocardiogram Reading Center\"\n",
    "    #\"Cardiac Mri Reading Center\"\n",
    "    #\"Cpet Screening\"\n",
    "    #\"Cpet\"\n",
    "    #\"Cpet Reading Center\"\n",
    "    #\"Neurocognitive And Wellbeing Assessments\"\n",
    "    #\"Tier 3 Cssrs\"\n",
    "    #\"Brain Mri Local Site\"\n",
    "    #\"Brain Mri Reading Center\"\n",
    "    #\"Eeg\"\n",
    "    #\"Eeg Reading Center\"\n",
    "    #\"AE/PD Report\"\n",
    "    \"end_of_participation\": \"End Of Participation\",\n",
    "    \"mhp_data\": \"Mhp Data\"\n",
    "}\n",
    "# Pediatric Biospeciments, Pediatric Demographics, and Pediatric Fitbit do not have RedCap instruments"
   ]
  },
  {
   "cell_type": "markdown",
   "metadata": {},
   "source": [
    "### RedCap mapping for Congenital Cohort"
   ]
  },
  {
   "cell_type": "code",
   "execution_count": null,
   "metadata": {},
   "outputs": [],
   "source": [
    "# Do the same for congenital\n",
    "picsure_dt = list(simplified_congenital['columnmeta_var_group_id'].unique())\n",
    "picsure_dt.sort()\n",
    "for i in picsure_dt:\n",
    "    print(i)"
   ]
  },
  {
   "cell_type": "code",
   "execution_count": null,
   "metadata": {},
   "outputs": [],
   "source": [
    "# Map to RedCap instruments manually with human-readable name\n",
    "cong_instrum_mapping = {\n",
    "    \"enrollment\": \"Enrollment\",\n",
    "    \"consent_tracking_tier_12\": \"Consent Tracking Tier 1-2\",\n",
    "    #\"Visit Form\"\n",
    "    #\"Identity\"\n",
    "    \"demographics\": \"Demographics\",\n",
    "    \"child_birth_history\": \"Child Birth History\",\n",
    "    \"child_current_health_status\": \"Child Current Health Status\",\n",
    "    \"first_covid_infection_history\": \"First COVID Infection History\",\n",
    "    \"most_recent_covid_infection_history\": \"Most Recent COVID Infection History\",\n",
    "    \"covid_infection_history_followup\": \"COVID Infection History (followup)\",\n",
    "    \"related_conditions\": \"Related Conditions\",\n",
    "    \"covid_family_infection\": \"COVID Family Infection\",\n",
    "    \"covid_symptoms\": \"COVID Symptoms\",\n",
    "    \"covid_vaccine_history\": \"COVID Vaccine History\",\n",
    "    \"covid_health_consequences\": \"COVID Health Consequences\",\n",
    "    \"child_social_determinants_of_health\": \"Child Social Determinants Of Health\",\n",
    "    \"child_social_determinants_of_health_followup\": \"Child Social Determinants Of Health Followup\",\n",
    "    \"bisqr\": \"Bisqr\",\n",
    "    \"asq\": \"ASQ\",\n",
    "    \"asqse\": \"Asqse\",\n",
    "    \"cbcl\":\"Cbcl\",\n",
    "    #\"End Of Surveys\"\n",
    "    \"dp4\":\"Dp4\",\n",
    "    \"bayley4\":\"Bayley4\",\n",
    "    \"dasii\": \"Dasii\",\n",
    "    \"anthropometry\": \"Anthropometry\",\n",
    "    \"biospecimens\": \"Biospecimens\",\n",
    "    \"antibody_test_results\":\"Antibody Test Results\",\n",
    "    #Alert Response Log\n",
    "    #AE/PD Report\n",
    "    \"end_of_participation\": \"End Of Participation\",\n",
    "    \"mchatrf\": \"Mchatrf\",\n",
    "    \"promis\": \"PROMIS\",\n",
    "    \"special_health_care_needs_screener\": \"Special Health Care Needs Screener\"\n",
    "}\n",
    "# Pediatric Congential Biospecimens, Pediatric Congenital Demographics do not have RedCap Instruments"
   ]
  },
  {
   "cell_type": "markdown",
   "metadata": {},
   "source": [
    "### RedCap Mapping for Caregiver Cohort"
   ]
  },
  {
   "cell_type": "code",
   "execution_count": null,
   "metadata": {},
   "outputs": [],
   "source": [
    "simplified_caregiver"
   ]
  },
  {
   "cell_type": "code",
   "execution_count": null,
   "metadata": {},
   "outputs": [],
   "source": [
    "# Do the same for caregiver\n",
    "picsure_dt = list(simplified_caregiver['columnmeta_var_group_id'].unique())\n",
    "picsure_dt.sort()\n",
    "for i in picsure_dt:\n",
    "    print(i)"
   ]
  },
  {
   "cell_type": "code",
   "execution_count": null,
   "metadata": {},
   "outputs": [],
   "source": [
    "care_instrum_mapping = {\n",
    "    #Enrollment\n",
    "    'consent_tracking': \"Consent Tracking\",\n",
    "    #Visit Form\n",
    "    #Identity\n",
    "    #Demographics\n",
    "    #PROMIS\n",
    "    'current_health_status': 'Current Health Status',\n",
    "    # First covid infection history\n",
    "    # most recent covid infection history\n",
    "    # covid infection history followup\n",
    "    # covid testing history\n",
    "    # covid vaccine history\n",
    "    # Covid symptoms\n",
    "    # Covid health consequences\n",
    "    \"household_social_determinants_of_health\": \"Household Social Determinants Of Health\",\n",
    "    \"caregiver_social_determinants_of_health\": \"Caregiver Social Determinants Of Health\",\n",
    "    \"caregiver_wellbeing\": \"Caregiver Wellbeing\"\n",
    "    #End of Surveys\n",
    "    #Biospecimens\n",
    "    #Antibody test results\n",
    "    #AE/PD report\n",
    "    #Mhp Data\n",
    "}\n",
    "# Pediatric Caregiver Biospecimens and Pediatric Caregiver Demographics not RedCap Instruments"
   ]
  },
  {
   "cell_type": "markdown",
   "metadata": {},
   "source": [
    "### Map each instrument in new column"
   ]
  },
  {
   "cell_type": "code",
   "execution_count": null,
   "metadata": {},
   "outputs": [],
   "source": [
    "# Function to add instruments to a new column in the dataframe\n",
    "def add_instruments(mapping, df):\n",
    "    df = df.reset_index()\n",
    "    for_df_instrum = []\n",
    "    for dt in df['columnmeta_var_group_id']:\n",
    "        if dt in mapping.keys():\n",
    "            for_df_instrum.append(mapping[dt])\n",
    "        else:\n",
    "            for_df_instrum.append('')\n",
    "    df_instrum = pd.DataFrame({'mapped_instrument': for_df_instrum})\n",
    "    new_df = pd.concat([df, df_instrum], axis=1)\n",
    "    mvp = new_df[['columnmeta_var_id', 'columnmeta_description', 'Subcohort', 'columnmeta_var_group_id', 'columnmeta_var_group_description', 'columnmeta_data_type', 'mapped_instrument', 'HPDS_PATH', 'values']]\n",
    "    return(mvp)"
   ]
  },
  {
   "cell_type": "code",
   "execution_count": null,
   "metadata": {},
   "outputs": [],
   "source": [
    "# Apply functions to subcohort datasets\n",
    "mvp_peds = add_instruments(peds_instrument_mapping, simplified_peds)\n",
    "mvp_cong = add_instruments(cong_instrum_mapping, simplified_congenital)\n",
    "mvp_care = add_instruments(care_instrum_mapping, simplified_caregiver)"
   ]
  },
  {
   "cell_type": "code",
   "execution_count": null,
   "metadata": {},
   "outputs": [],
   "source": [
    "mvp_care.shape"
   ]
  },
  {
   "cell_type": "code",
   "execution_count": null,
   "metadata": {},
   "outputs": [],
   "source": [
    "# Create the data dictionary functions\n",
    "\n",
    "def continuous(hpds_path, recover_results):\n",
    "    field_attributes = {}\n",
    "    if type(recover_results[hpds_path].min()) == np.float64:\n",
    "        field_attributes[\"min\"] = round(recover_results[hpds_path].min(), 2)\n",
    "        field_attributes[\"max\"] = round(recover_results[hpds_path].max(), 2)\n",
    "        field_attributes[\"mean\"] = round(recover_results[hpds_path].mean(), 2)\n",
    "    else:\n",
    "        field_attributes[\"min\"] = round(recover_results[hpds_path].min().iloc[0], 2)\n",
    "        field_attributes[\"max\"] = round(recover_results[hpds_path].max().iloc[0], 2)\n",
    "        field_attributes[\"mean\"] = round(recover_results[hpds_path].mean().iloc[0], 2)\n",
    "    return field_attributes\n",
    "\n",
    "def categorical(hpds_path, recover_results, data_dict):\n",
    "    field_attributes = {}\n",
    "    pattern1 = r'^\\d{4}-\\d{2}-\\d{2}$' #YYYY-MM-DD\n",
    "    pattern2 = r'^\\d{4}-\\d{2}-\\d{2} \\d{2}:\\d{2}:\\d{2}$' #YYYY-MM-DD HH:MM:SS\n",
    "    row = data_dict[data_dict.HPDS_PATH == hpds_path]\n",
    "    #print(list(row[\"values\"].iloc[0]))\n",
    "    if list(row[\"values\"]) == [[]]:\n",
    "        field_attributes = \"No values\"\n",
    "    elif \"participant_id\" in row[\"HPDS_PATH\"].iloc[0] or \"kit_id\" in row[\"columnmeta_var_id\"].iloc[0]:\n",
    "        field_attributes = \"ID\"\n",
    "    elif len(row[\"values\"]) > 0 and (bool(re.match(pattern1, list(row[\"values\"].iloc[0])[0])) or (bool(re.match(pattern2, list(row[\"values\"].iloc[0])[0])))):\n",
    "        field_attributes = \"Date\"\n",
    "    elif len(row[\"values\"]) > 0:\n",
    "        row_values = list(row[\"values\"].iloc[0])\n",
    "        #print(row_values)\n",
    "        for cat in row_values:\n",
    "            if cat == \"false\":\n",
    "                field_attributes[False] = sum(recover_results[hpds_path] == False)\n",
    "            elif cat == \"true\":\n",
    "                field_attributes[True] = sum(recover_results[hpds_path] == True)\n",
    "            else:\n",
    "                try:\n",
    "                    field_attributes[cat] = sum(recover_results[hpds_path] == float(cat))\n",
    "                except:\n",
    "                    field_attributes[cat] = sum(recover_results[hpds_path] == cat)\n",
    "        if len(field_attributes) > 5:\n",
    "            field_attributes = dict(sorted(field_attributes.items(), key = lambda x: x[1], reverse = True)[:6])\n",
    "    return field_attributes"
   ]
  },
  {
   "cell_type": "code",
   "execution_count": null,
   "metadata": {},
   "outputs": [],
   "source": [
    "def get_field_attr(mvp):\n",
    "    num_participants_final = []\n",
    "    field_attr_final = []\n",
    "    skip_vars = [\n",
    "        \"\\\\phs003461\\\\recover_pediatric_caregiver\\\\demographics\\\\deceased_date\\\\\",\n",
    "        \"\\\\phs003461\\\\recover_pediatric_congenital\\\\demographics\\enroll_zip_code\\\\\",\n",
    "        \"\\\\phs003461\\\\recover_pediatric\\\\enrollment\\\\enrollment\\\\enrl_bpid2\\\\\",\n",
    "        \"\\\\phs003461\\\\recover_pediatric\\\\follow-up_month_6\\\\covid_health_consequences\\\\stimqp_talkplan\\\\\"\n",
    "    ]\n",
    "\n",
    "    for i, row in mvp.iterrows():\n",
    "        hpds_path = mvp.loc[i, \"HPDS_PATH\"]\n",
    "        print(hpds_path)\n",
    "        if hpds_path in skip_vars:\n",
    "            print(hpds_path)\n",
    "            print(\"Skipping\")\n",
    "            field_attr_final.append(\"Variable Not Found\")\n",
    "            num_participants_final.append(\"Variable Not Found\")\n",
    "            continue\n",
    "        d_type = mvp.loc[i, \"columnmeta_data_type\"]\n",
    "        num_participant = recover_results[hpds_path].count()\n",
    "        num_participants_final.append(num_participant)\n",
    "    \n",
    "        if d_type == \"continuous\":\n",
    "            field_attr = continuous(hpds_path, recover_results)\n",
    "        if d_type == \"categorical\":\n",
    "            field_attr = categorical(hpds_path, recover_results, mvp)\n",
    "    \n",
    "        \n",
    "        print(field_attr)\n",
    "\n",
    "        field_attr_final.append(field_attr)\n",
    "    return(num_participants_final, field_attr_final)"
   ]
  },
  {
   "cell_type": "code",
   "execution_count": null,
   "metadata": {},
   "outputs": [],
   "source": [
    "def add_info_to_df(df, res):\n",
    "    final_data_dict = pd.concat([df, \n",
    "                                 pd.DataFrame({\"Number Participants\": res[0]}),\n",
    "                                 pd.DataFrame({\"Field Attributes\": res[1]})],\n",
    "                                 axis=1)\n",
    "    final_data_dict = final_data_dict.drop(['HPDS_PATH', 'values'], axis = 1)\n",
    "    final_data_dict.columns = [\"Variable Name\", \"Variable Description\", \"Subcohort\",\n",
    "                               \"Dataset\", \"Dataset Description\", \"Data Type\", \"Mapped Instrument\",\n",
    "                                'Number Participants', 'Field Attributes']\n",
    "    return(final_data_dict)"
   ]
  },
  {
   "cell_type": "code",
   "execution_count": null,
   "metadata": {},
   "outputs": [],
   "source": [
    "care_attr = get_field_attr(mvp_care)\n",
    "care_final = add_info_to_df(mvp_care, care_attr)\n"
   ]
  },
  {
   "cell_type": "code",
   "execution_count": null,
   "metadata": {},
   "outputs": [],
   "source": [
    "care_final.head()"
   ]
  },
  {
   "cell_type": "code",
   "execution_count": null,
   "metadata": {},
   "outputs": [],
   "source": [
    "cong_attr = get_field_attr(mvp_cong)\n",
    "cong_final = add_info_to_df(mvp_cong, cong_attr)"
   ]
  },
  {
   "cell_type": "code",
   "execution_count": null,
   "metadata": {},
   "outputs": [],
   "source": [
    "cong_final.head()"
   ]
  },
  {
   "cell_type": "code",
   "execution_count": null,
   "metadata": {},
   "outputs": [],
   "source": [
    "peds_attr = get_field_attr(mvp_peds)\n",
    "peds_final = add_info_to_df(mvp_peds, peds_attr)"
   ]
  },
  {
   "cell_type": "markdown",
   "metadata": {},
   "source": [
    "## Write output"
   ]
  },
  {
   "cell_type": "code",
   "execution_count": null,
   "metadata": {},
   "outputs": [],
   "source": [
    "peds_final.to_csv(\"RECOVER_Pediatrics_PIC-SURE_Data_Dictionary_Pediatric_Cohort.csv\")\n",
    "care_final.to_csv(\"RECOVER_Pediatrics_PIC-SURE_Data_Dictionary_Pediatric_Caregiver.csv\")\n",
    "cong_final.to_csv(\"RECOVER_Pediatrics_PIC-SURE_Data_Dictionary_Pediatric_Congenital.csv\")"
   ]
  },
  {
   "cell_type": "markdown",
   "metadata": {},
   "source": [
    "# Crazy findings"
   ]
  },
  {
   "cell_type": "code",
   "execution_count": null,
   "metadata": {},
   "outputs": [],
   "source": [
    "testing_var = '\\\\phs003461\\\\recover_pediatric_congenital\\\\demographics\\\\enroll_protocol\\\\'\n",
    "# Show unique variables from data dictionary\n",
    "dict_vals = mvp_cong[mvp_cong.HPDS_PATH == testing_var][\"values\"]\n",
    "print(dict_vals[0][0])\n",
    "# Show unique variables from data itself\n",
    "data_vals = recover_results[testing_var].unique()\n",
    "print(data_vals)"
   ]
  },
  {
   "cell_type": "code",
   "execution_count": null,
   "metadata": {},
   "outputs": [],
   "source": [
    "# Confirm when counting from data - using value from data dict\n",
    "print(\"from data dict\")\n",
    "print(sum(recover_results[testing_var] == dict_vals[0][0]))\n",
    "\n",
    "print(\"from data\")\n",
    "print(sum(recover_results[testing_var] == data_vals[1]))"
   ]
  },
  {
   "cell_type": "code",
   "execution_count": null,
   "metadata": {},
   "outputs": [],
   "source": []
  }
 ],
 "metadata": {
  "kernelspec": {
   "display_name": "Python 3",
   "language": "python",
   "name": "python3"
  },
  "language_info": {
   "codemirror_mode": {
    "name": "ipython",
    "version": 3
   },
   "file_extension": ".py",
   "mimetype": "text/x-python",
   "name": "python",
   "nbconvert_exporter": "python",
   "pygments_lexer": "ipython3",
   "version": "3.9.6"
  }
 },
 "nbformat": 4,
 "nbformat_minor": 2
}

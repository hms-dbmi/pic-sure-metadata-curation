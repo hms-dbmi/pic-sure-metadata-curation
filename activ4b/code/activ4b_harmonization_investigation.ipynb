{
 "cells": [
  {
   "cell_type": "markdown",
   "id": "4f9af397",
   "metadata": {},
   "source": [
    "# CONNECTS harmonization investigation\n",
    "The purpose of this notebook is to investigate the harmonized files of the ACTIV-4b study as part of the CONNECTS initiative. For more information about this process, please refer to the [CONNECTS COVID-19 Data Exploration documentation](https://docs.google.com/document/d/1g-qayZfLuCYVxp1QXkojlXtS8nSKkcLQMlawVm9Gkv8/edit?usp=sharing).\n",
    "\n",
    "Specifically, this notebook will aim to answer the following questions:\n",
    "- Are the same participants present in the raw data file and harmonized data file?\n",
    "- Does the data of each participant match between these files?\n",
    "- Is there any data missing?"
   ]
  },
  {
   "cell_type": "code",
   "execution_count": null,
   "id": "abbe803b",
   "metadata": {},
   "outputs": [],
   "source": [
    "import pandas as pd"
   ]
  },
  {
   "cell_type": "code",
   "execution_count": null,
   "id": "1f828958",
   "metadata": {},
   "outputs": [],
   "source": [
    "# Use DM.csv for this example\n",
    "raw = pd.read_csv(\"../input/DM_original.csv\")\n",
    "harmonized = pd.read_csv(\"../input/DM_activ4b.csv\")"
   ]
  },
  {
   "cell_type": "code",
   "execution_count": null,
   "id": "b4168fe4",
   "metadata": {},
   "outputs": [],
   "source": [
    "# First check: Are the same participants present in the raw and harmonized files?\n",
    "raw_peeps = set(raw.PATID)\n",
    "harmonized_peeps = set(harmonized.SUBJID)\n",
    "raw_peeps == harmonized_peeps\n",
    "\n",
    "# Yes - all participants are the same."
   ]
  },
  {
   "cell_type": "code",
   "execution_count": null,
   "id": "2fd79ace",
   "metadata": {},
   "outputs": [],
   "source": [
    "# Second check: Does the data of each participant match between these files?\n",
    "raw"
   ]
  },
  {
   "cell_type": "code",
   "execution_count": null,
   "id": "d25ec119",
   "metadata": {},
   "outputs": [],
   "source": [
    "harmonized"
   ]
  }
 ],
 "metadata": {
  "kernelspec": {
   "display_name": "conda_python3",
   "language": "python",
   "name": "conda_python3"
  },
  "language_info": {
   "codemirror_mode": {
    "name": "ipython",
    "version": 3
   },
   "file_extension": ".py",
   "mimetype": "text/x-python",
   "name": "python",
   "nbconvert_exporter": "python",
   "pygments_lexer": "ipython3",
   "version": "3.6.13"
  }
 },
 "nbformat": 4,
 "nbformat_minor": 5
}

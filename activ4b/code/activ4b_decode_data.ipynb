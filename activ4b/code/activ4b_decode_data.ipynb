{
 "cells": [
  {
   "cell_type": "markdown",
   "id": "97b5bb65",
   "metadata": {},
   "source": [
    "# Activ4b dataset decoding\n",
    "The datasets of Activ4b (phs002710) were provided as CSV files that contained encoded data. For the BioData Catalyst PIC-SURE ETL pipeline, these files need to be in the decoded format. The purpose of this notebook is to use the Data Dictionary, provided in Excel format, to decode the CSV files and save them to the S3 bucket."
   ]
  },
  {
   "cell_type": "markdown",
   "id": "244a6825",
   "metadata": {},
   "source": [
    "## Do imports and set user-defined functions"
   ]
  },
  {
   "cell_type": "code",
   "execution_count": null,
   "id": "5b28a6b3",
   "metadata": {},
   "outputs": [],
   "source": [
    "# Do imports\n",
    "import pandas as pd\n",
    "import glob"
   ]
  },
  {
   "cell_type": "code",
   "execution_count": null,
   "id": "8e329fa7",
   "metadata": {},
   "outputs": [],
   "source": [
    "# Set directories and get file information\n",
    "data_dict_path = \"/home/ec2-user/SageMaker/pic-sure-metadata-curation/activ4b/input/DataDict.xlsx\"\n",
    "file_dir = \"/home/ec2-user/studies/ALL-avillach-73-bdcatalyst-etl/activ4b/development_raw_data/*\"\n",
    "out_dir = \"/home/ec2-user/studies/ALL-avillach-73-bdcatalyst-etl/activ4b/development_decoded_data/\"\n",
    "file_prefixes = [i.split('/')[-1].strip(\".csv\") for i in glob.glob(file_dir)]"
   ]
  },
  {
   "cell_type": "code",
   "execution_count": null,
   "id": "0fc1eb80",
   "metadata": {},
   "outputs": [],
   "source": [
    "file_prefixes"
   ]
  },
  {
   "cell_type": "code",
   "execution_count": null,
   "id": "997e57f8",
   "metadata": {},
   "outputs": [],
   "source": []
  }
 ],
 "metadata": {
  "kernelspec": {
   "display_name": "conda_python3",
   "language": "python",
   "name": "conda_python3"
  },
  "language_info": {
   "codemirror_mode": {
    "name": "ipython",
    "version": 3
   },
   "file_extension": ".py",
   "mimetype": "text/x-python",
   "name": "python",
   "nbconvert_exporter": "python",
   "pygments_lexer": "ipython3",
   "version": "3.6.13"
  }
 },
 "nbformat": 4,
 "nbformat_minor": 5
}

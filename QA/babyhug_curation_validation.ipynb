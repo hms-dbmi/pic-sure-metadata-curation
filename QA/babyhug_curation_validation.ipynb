{
 "cells": [
  {
   "cell_type": "markdown",
   "id": "91c8e440",
   "metadata": {},
   "source": [
    "# ARCHIVE\n",
    "This notebook was used as a one-off investigation when the python PIC-SURE API was not updated. Keeping this code for reference in case it comes handy in the future for other QA notebooks.\n",
    "\n",
    "## Quick validation script\n",
    "This notebook will be used to validate that the BABYHUG metadata was loaded correctly into the integration environment. This script uses the output from running a search for \"babyhug\" in PIC-SURE and saving the results to a file."
   ]
  },
  {
   "cell_type": "code",
   "execution_count": null,
   "id": "b21174e2",
   "metadata": {},
   "outputs": [],
   "source": [
    "metadata_file = \"../output/babyhug_metadata.json\" # Will need to change when running again\n",
    "integration_file = \"../input/babyhug_export.txt\" # Will need to change when running again\n",
    "\n",
    "import json\n",
    "# Opening JSON file\n",
    "f = open(metadata_file)\n",
    "  \n",
    "# returns JSON object as \n",
    "# a dictionary\n",
    "metadata = json.load(f)\n",
    "\n",
    "f = open(integration_file)\n",
    "export = json.load(f)"
   ]
  },
  {
   "cell_type": "code",
   "execution_count": null,
   "id": "b125a8cc",
   "metadata": {},
   "outputs": [],
   "source": [
    "metadata"
   ]
  },
  {
   "cell_type": "markdown",
   "id": "a9747c12",
   "metadata": {},
   "source": [
    "<table>\n",
    "    <thead>\n",
    "        <tr>\n",
    "            <th>Metadata field</th>\n",
    "            <th>Export field</th>\n",
    "        </tr>\n",
    "    </thead>\n",
    "    <tbody>\n",
    "        <tr>\n",
    "            <td rowspan=4>variable_id</td>\n",
    "            <td>derived_var_id<td>\n",
    "        </tr>\n",
    "        <tr>\n",
    "            <td>columnmeta_name</td>\n",
    "        </tr>\n",
    "        <tr>\n",
    "            <td>columnmeta_var_id</td>\n",
    "        </tr>\n",
    "        <tr>\n",
    "            <td>derived_var_name</td>\n",
    "        </tr>\n",
    "        <tr>\n",
    "            <td rowspan=2>variable_name</td>\n",
    "            <td>description***</td>\n",
    "        </tr>\n",
    "        <tr>\n",
    "            <td>derived_var_description</td>\n",
    "        </tr>\n",
    "        <tr>\n",
    "            <td rowspan=2>form_group_description</td>\n",
    "            <td>columnmeta_var_group_description</td>\n",
    "        </tr>\n",
    "        <tr>\n",
    "            <td>derived_group_description</td>\n",
    "        </tr>\n",
    "        <tr>\n",
    "            <td rowspan=2>study_phs_number</td>\n",
    "            <td>derived_study_id</td>\n",
    "        </tr>\n",
    "        <tr>\n",
    "            <td>columnmeta_study_id</td>\n",
    "        </tr>\n",
    "        <tr>\n",
    "            <td>study_name</td>\n",
    "            <td>derived_study_description</td>\n",
    "        </tr>\n",
    "        <tr>\n",
    "            <td>form_group_name</td>\n",
    "            <td>derived_group_name</td>\n",
    "        </tr>\n",
    "    </tbody>\n",
    "</table>\n"
   ]
  },
  {
   "cell_type": "code",
   "execution_count": null,
   "id": "c146ffee",
   "metadata": {},
   "outputs": [],
   "source": [
    "mapping_dict = {'variable_id':['derived_var_id', 'columnmeta_name', 'columnmeta_var_id', 'derived_var_name'],\n",
    " 'variable_name':['description', 'derived_var_description'],\n",
    " 'form_group_description':['columnmeta_var_group_description', 'derived_group_description'],\n",
    " 'study_phs_number':['derived_study_id', 'columnmeta_study_id'],\n",
    " 'study_name':['derived_study_description'],\n",
    " 'form_group_name':['derived_group_name']}"
   ]
  },
  {
   "cell_type": "code",
   "execution_count": null,
   "id": "d21951a2",
   "metadata": {},
   "outputs": [],
   "source": [
    "import pandas as pd\n",
    "metatable = pd.DataFrame(columns=['variable_id', 'variable_name', 'form_group_name', \n",
    "                                  'form_group_description', 'study_name', 'study_phs_number', 'form_name'])\n",
    "\n",
    "meta_studyname = metadata[0]['study_name']\n",
    "meta_studyphs = metadata[0]['study_phs_number']\n",
    "for formgroup in metadata[0]['form_group']:\n",
    "    meta_formgroup = formgroup['form_group_name']\n",
    "    meta_formdesc = formgroup['form_group_description']\n",
    "    for vargroup in formgroup['form']:\n",
    "        formname = vargroup['form_name']\n",
    "        for variable in vargroup['variable_group'][0]['variable']:\n",
    "            meta_varid = variable['variable_id']\n",
    "            meta_varname = variable['variable_name']\n",
    "            metatable = metatable.append({'variable_id': meta_varid,\n",
    "                            'variable_name':meta_varname,\n",
    "                            'form_group_name':meta_formgroup,\n",
    "                            'form_group_description':meta_formdesc,\n",
    "                            'study_name':meta_studyname,\n",
    "                            'study_phs_number':meta_studyphs\n",
    "                           }, ignore_index=True)\n",
    "    "
   ]
  },
  {
   "cell_type": "code",
   "execution_count": null,
   "id": "7a693d53",
   "metadata": {},
   "outputs": [],
   "source": [
    "metatable"
   ]
  },
  {
   "cell_type": "code",
   "execution_count": null,
   "id": "f9895a84",
   "metadata": {},
   "outputs": [],
   "source": [
    "exporttable = pd.DataFrame(columns=['variable_id', 'variable_name', 'form_group_name', \n",
    "                                  'form_group_description', 'study_name', 'study_phs_number', 'values'])\n",
    "for result in export['results']['searchResults']:\n",
    "    derived_var_id = result['result']['metadata']['derived_var_id']\n",
    "    columnmeta_name = result['result']['metadata']['columnmeta_name']\n",
    "    columnmeta_var_id = result['result']['metadata']['columnmeta_var_id']\n",
    "    derived_var_name = result['result']['metadata']['derived_var_name']\n",
    "    var = [derived_var_id, columnmeta_name, columnmeta_var_id, derived_var_id]\n",
    "    test = all(elem == var[0] for elem in var)\n",
    "    if test is not True:\n",
    "        print(derived_var_id)\n",
    "    #print(result)\n",
    "    #description = result['result']['metadata']['description']\n",
    "    derived_var_description = result['result']['metadata']['derived_var_description']\n",
    "    #desc = [description, derived_var_description]\n",
    "    test = all(elem == desc[0] for elem in desc)\n",
    "    #if test is not True:\n",
    "    #    print(derived_var_id)\n",
    "    #    print(description)\n",
    "    #    print(derived_var_description)\n",
    "    derived_study_id = result['result']['metadata']['derived_study_id']\n",
    "    columnmeta_study_id = result['result']['metadata']['columnmeta_study_id']\n",
    "    ids = [derived_study_id, columnmeta_study_id]\n",
    "    test = all(elem == ids[0] for elem in ids)\n",
    "    if test is not True:\n",
    "        print(derived_study_id)\n",
    "    columnmeta_var_group_description = result['result']['metadata']['columnmeta_var_group_description']\n",
    "    derived_group_description = result['result']['metadata']['derived_group_description']\n",
    "    groups = [columnmeta_var_group_description, derived_group_description]\n",
    "    test = all(elem == groups[0] for elem in groups)\n",
    "    if test is not True:\n",
    "        print(columnmeta_var_group_description)\n",
    "    derived_study_description = result['result']['metadata']['derived_study_description']\n",
    "    derived_group_name = result['result']['metadata']['derived_group_name']\n",
    "    values = result['result']['metadata']['values']\n",
    "    exporttable = metatable.append({'variable_id': derived_var_id,\n",
    "                            'variable_name':derived_var_description,\n",
    "                            'form_group_name':derived_group_name,\n",
    "                            'form_group_description':columnmeta_var_group_description,\n",
    "                            'study_name':derived_study_description,\n",
    "                            'study_phs_number':derived_study_id,\n",
    "                                    'values':values\n",
    "                           }, ignore_index=True)"
   ]
  },
  {
   "cell_type": "code",
   "execution_count": null,
   "id": "91065c2f",
   "metadata": {},
   "outputs": [],
   "source": [
    "metatable[metatable.variable_id == 'OBS']"
   ]
  },
  {
   "cell_type": "code",
   "execution_count": null,
   "id": "e1e3db40",
   "metadata": {},
   "outputs": [],
   "source": [
    "exporttable[exporttable.variable_id == 'OTHER_EYE']"
   ]
  },
  {
   "cell_type": "code",
   "execution_count": null,
   "id": "5967ebc1",
   "metadata": {},
   "outputs": [],
   "source": [
    "meta = metatable.sort_values(by=metatable.columns.tolist()).drop_duplicates().reset_index(drop=True)\n",
    "expo = exporttable.sort_values(by=exporttable.columns.tolist()).drop_duplicates().reset_index(drop=True)\n",
    "print(meta.equals(expo))"
   ]
  },
  {
   "cell_type": "code",
   "execution_count": null,
   "id": "35a7c4fc",
   "metadata": {},
   "outputs": [],
   "source": [
    "metatable.equals(exporttable)"
   ]
  },
  {
   "cell_type": "code",
   "execution_count": null,
   "id": "a8809196",
   "metadata": {},
   "outputs": [],
   "source": [
    "pd.concat([metatable,exporttable]).drop_duplicates(keep=False)"
   ]
  },
  {
   "cell_type": "code",
   "execution_count": null,
   "id": "9309ddd7",
   "metadata": {},
   "outputs": [],
   "source": [
    "export"
   ]
  },
  {
   "cell_type": "code",
   "execution_count": null,
   "id": "e70d3a88",
   "metadata": {},
   "outputs": [],
   "source": [
    "metatable"
   ]
  },
  {
   "cell_type": "code",
   "execution_count": null,
   "id": "de83ab22",
   "metadata": {},
   "outputs": [],
   "source": [
    "# Group by everything and compare the counts - figure out which count is off and that is the missing variable\n",
    "grouped_meta = metatable.groupby(by='variable_id').count()#list(metatable.columns))\n",
    "grouped_export = exporttable.groupby(by='variable_id').count()\n",
    "#list(metatable.columns)"
   ]
  },
  {
   "cell_type": "code",
   "execution_count": null,
   "id": "70ea604b",
   "metadata": {},
   "outputs": [],
   "source": [
    "grouped_meta"
   ]
  },
  {
   "cell_type": "code",
   "execution_count": null,
   "id": "9aaf5d29",
   "metadata": {},
   "outputs": [],
   "source": [
    "grouped_export"
   ]
  },
  {
   "cell_type": "code",
   "execution_count": null,
   "id": "75432c6c",
   "metadata": {},
   "outputs": [],
   "source": [
    "grouped_meta[grouped_meta.variable_name != grouped_meta.study_phs_number]"
   ]
  },
  {
   "cell_type": "code",
   "execution_count": null,
   "id": "ac635244",
   "metadata": {},
   "outputs": [],
   "source": [
    "for i in grouped_export.index:\n",
    "    #print(grouped_export.loc[i].variable_name)\n",
    "    if grouped_export.loc[i].variable_name != grouped_meta.loc[i].variable_name:\n",
    "        print(i)"
   ]
  },
  {
   "cell_type": "code",
   "execution_count": null,
   "id": "f1b8093e",
   "metadata": {},
   "outputs": [],
   "source": [
    "grouped_meta.loc['TRANSPLANT_RSN_SP']"
   ]
  },
  {
   "cell_type": "code",
   "execution_count": null,
   "id": "f02b239a",
   "metadata": {},
   "outputs": [],
   "source": [
    "grouped_export.loc['TRANSPLANT_RSN_SP']"
   ]
  },
  {
   "cell_type": "code",
   "execution_count": null,
   "id": "d0f6a560",
   "metadata": {},
   "outputs": [],
   "source": [
    "metatable[metatable.variable_id == 'TRANSPLANT_RSN_SP']"
   ]
  },
  {
   "cell_type": "code",
   "execution_count": null,
   "id": "bdd46693",
   "metadata": {},
   "outputs": [],
   "source": [
    "exporttable[exporttable.variable_id == 'TRANSPLANT_RSN_SP']"
   ]
  },
  {
   "cell_type": "code",
   "execution_count": null,
   "id": "ecb87d0a",
   "metadata": {},
   "outputs": [],
   "source": []
  }
 ],
 "metadata": {
  "kernelspec": {
   "display_name": "conda_python3",
   "language": "python",
   "name": "conda_python3"
  },
  "language_info": {
   "codemirror_mode": {
    "name": "ipython",
    "version": 3
   },
   "file_extension": ".py",
   "mimetype": "text/x-python",
   "name": "python",
   "nbconvert_exporter": "python",
   "pygments_lexer": "ipython3",
   "version": "3.6.13"
  }
 },
 "nbformat": 4,
 "nbformat_minor": 5
}

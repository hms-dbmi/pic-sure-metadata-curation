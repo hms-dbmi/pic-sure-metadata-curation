{
 "cells": [
  {
   "cell_type": "markdown",
   "id": "da72737e",
   "metadata": {},
   "source": [
    "# STOP II data curation\n",
    "The PIC-SURE ETL pipeline assumes that the patient ID column of each data file is the first column. The STOP-II data files currently have the patient ID columns in places other than the first column. The purpose of this notebook is to move the patient ID column to the first column."
   ]
  },
  {
   "cell_type": "code",
   "execution_count": 1,
   "id": "2630ce70",
   "metadata": {},
   "outputs": [],
   "source": [
    "import glob\n",
    "import pandas as pd"
   ]
  },
  {
   "cell_type": "code",
   "execution_count": 4,
   "id": "17f054fb",
   "metadata": {},
   "outputs": [],
   "source": [
    "stop_ii_files = glob.glob(\"/home/ec2-user/studies/ALL-avillach-73-bdcatalyst-etl/stop-ii/decoded_data/*\")"
   ]
  },
  {
   "cell_type": "code",
   "execution_count": 5,
   "id": "ee8a7f88",
   "metadata": {},
   "outputs": [
    {
     "data": {
      "text/plain": [
       "['/home/ec2-user/studies/ALL-avillach-73-bdcatalyst-etl/stop-ii/decoded_data/p002.csv',\n",
       " '/home/ec2-user/studies/ALL-avillach-73-bdcatalyst-etl/stop-ii/decoded_data/p003.csv',\n",
       " '/home/ec2-user/studies/ALL-avillach-73-bdcatalyst-etl/stop-ii/decoded_data/p005.csv',\n",
       " '/home/ec2-user/studies/ALL-avillach-73-bdcatalyst-etl/stop-ii/decoded_data/p006.csv',\n",
       " '/home/ec2-user/studies/ALL-avillach-73-bdcatalyst-etl/stop-ii/decoded_data/p010.csv',\n",
       " '/home/ec2-user/studies/ALL-avillach-73-bdcatalyst-etl/stop-ii/decoded_data/p011.csv',\n",
       " '/home/ec2-user/studies/ALL-avillach-73-bdcatalyst-etl/stop-ii/decoded_data/p012.csv',\n",
       " '/home/ec2-user/studies/ALL-avillach-73-bdcatalyst-etl/stop-ii/decoded_data/p013.csv',\n",
       " '/home/ec2-user/studies/ALL-avillach-73-bdcatalyst-etl/stop-ii/decoded_data/p014.csv',\n",
       " '/home/ec2-user/studies/ALL-avillach-73-bdcatalyst-etl/stop-ii/decoded_data/p015.csv',\n",
       " '/home/ec2-user/studies/ALL-avillach-73-bdcatalyst-etl/stop-ii/decoded_data/p016.csv',\n",
       " '/home/ec2-user/studies/ALL-avillach-73-bdcatalyst-etl/stop-ii/decoded_data/p018.csv',\n",
       " '/home/ec2-user/studies/ALL-avillach-73-bdcatalyst-etl/stop-ii/decoded_data/p019.csv',\n",
       " '/home/ec2-user/studies/ALL-avillach-73-bdcatalyst-etl/stop-ii/decoded_data/p01a.csv',\n",
       " '/home/ec2-user/studies/ALL-avillach-73-bdcatalyst-etl/stop-ii/decoded_data/p01b.csv',\n",
       " '/home/ec2-user/studies/ALL-avillach-73-bdcatalyst-etl/stop-ii/decoded_data/p01c.csv',\n",
       " '/home/ec2-user/studies/ALL-avillach-73-bdcatalyst-etl/stop-ii/decoded_data/p020.csv',\n",
       " '/home/ec2-user/studies/ALL-avillach-73-bdcatalyst-etl/stop-ii/decoded_data/p021.csv',\n",
       " '/home/ec2-user/studies/ALL-avillach-73-bdcatalyst-etl/stop-ii/decoded_data/p022.csv',\n",
       " '/home/ec2-user/studies/ALL-avillach-73-bdcatalyst-etl/stop-ii/decoded_data/p024.csv',\n",
       " '/home/ec2-user/studies/ALL-avillach-73-bdcatalyst-etl/stop-ii/decoded_data/p030.csv',\n",
       " '/home/ec2-user/studies/ALL-avillach-73-bdcatalyst-etl/stop-ii/decoded_data/p031.csv',\n",
       " '/home/ec2-user/studies/ALL-avillach-73-bdcatalyst-etl/stop-ii/decoded_data/p032.csv',\n",
       " '/home/ec2-user/studies/ALL-avillach-73-bdcatalyst-etl/stop-ii/decoded_data/p033.csv',\n",
       " '/home/ec2-user/studies/ALL-avillach-73-bdcatalyst-etl/stop-ii/decoded_data/p040.csv',\n",
       " '/home/ec2-user/studies/ALL-avillach-73-bdcatalyst-etl/stop-ii/decoded_data/p052.csv',\n",
       " '/home/ec2-user/studies/ALL-avillach-73-bdcatalyst-etl/stop-ii/decoded_data/p13b.csv',\n",
       " '/home/ec2-user/studies/ALL-avillach-73-bdcatalyst-etl/stop-ii/decoded_data/p15a.csv',\n",
       " '/home/ec2-user/studies/ALL-avillach-73-bdcatalyst-etl/stop-ii/decoded_data/p16b.csv',\n",
       " '/home/ec2-user/studies/ALL-avillach-73-bdcatalyst-etl/stop-ii/decoded_data/p16r.csv',\n",
       " '/home/ec2-user/studies/ALL-avillach-73-bdcatalyst-etl/stop-ii/decoded_data/p18t.csv',\n",
       " '/home/ec2-user/studies/ALL-avillach-73-bdcatalyst-etl/stop-ii/decoded_data/p23a.csv',\n",
       " '/home/ec2-user/studies/ALL-avillach-73-bdcatalyst-etl/stop-ii/decoded_data/pnonstop2tcds.csv',\n",
       " '/home/ec2-user/studies/ALL-avillach-73-bdcatalyst-etl/stop-ii/decoded_data/pq30.csv',\n",
       " '/home/ec2-user/studies/ALL-avillach-73-bdcatalyst-etl/stop-ii/decoded_data/pq52.csv',\n",
       " '/home/ec2-user/studies/ALL-avillach-73-bdcatalyst-etl/stop-ii/decoded_data/prand_table.csv',\n",
       " '/home/ec2-user/studies/ALL-avillach-73-bdcatalyst-etl/stop-ii/decoded_data/prst2.csv']"
      ]
     },
     "execution_count": 5,
     "metadata": {},
     "output_type": "execute_result"
    }
   ],
   "source": [
    "stop_ii_files"
   ]
  },
  {
   "cell_type": "code",
   "execution_count": 33,
   "id": "095e8ea7",
   "metadata": {},
   "outputs": [],
   "source": [
    "def move_ids(path):\n",
    "    df = pd.read_csv(path)\n",
    "    first_column = df.pop('ldu_id')\n",
    "    # insert column using insert(position,column_name,first_column) function\n",
    "    df.insert(0, 'ldu_id', first_column)\n",
    "    df.to_csv(path, index=False)\n",
    "    return(path)"
   ]
  },
  {
   "cell_type": "code",
   "execution_count": 34,
   "id": "f1d8d374",
   "metadata": {},
   "outputs": [
    {
     "data": {
      "text/plain": [
       "'/home/ec2-user/studies/ALL-avillach-73-bdcatalyst-etl/stop-ii/decoded_data/p003.csv'"
      ]
     },
     "execution_count": 34,
     "metadata": {},
     "output_type": "execute_result"
    }
   ],
   "source": [
    "move_ids(stop_ii_files[1])"
   ]
  },
  {
   "cell_type": "code",
   "execution_count": 35,
   "id": "0a885336",
   "metadata": {},
   "outputs": [
    {
     "name": "stdout",
     "output_type": "stream",
     "text": [
      "/home/ec2-user/studies/ALL-avillach-73-bdcatalyst-etl/stop-ii/decoded_data/p002.csv\n",
      "/home/ec2-user/studies/ALL-avillach-73-bdcatalyst-etl/stop-ii/decoded_data/p003.csv\n",
      "/home/ec2-user/studies/ALL-avillach-73-bdcatalyst-etl/stop-ii/decoded_data/p005.csv\n",
      "/home/ec2-user/studies/ALL-avillach-73-bdcatalyst-etl/stop-ii/decoded_data/p006.csv\n",
      "/home/ec2-user/studies/ALL-avillach-73-bdcatalyst-etl/stop-ii/decoded_data/p010.csv\n",
      "/home/ec2-user/studies/ALL-avillach-73-bdcatalyst-etl/stop-ii/decoded_data/p011.csv\n",
      "/home/ec2-user/studies/ALL-avillach-73-bdcatalyst-etl/stop-ii/decoded_data/p012.csv\n",
      "/home/ec2-user/studies/ALL-avillach-73-bdcatalyst-etl/stop-ii/decoded_data/p013.csv\n",
      "/home/ec2-user/studies/ALL-avillach-73-bdcatalyst-etl/stop-ii/decoded_data/p014.csv\n",
      "/home/ec2-user/studies/ALL-avillach-73-bdcatalyst-etl/stop-ii/decoded_data/p015.csv\n",
      "/home/ec2-user/studies/ALL-avillach-73-bdcatalyst-etl/stop-ii/decoded_data/p016.csv\n",
      "/home/ec2-user/studies/ALL-avillach-73-bdcatalyst-etl/stop-ii/decoded_data/p018.csv\n",
      "/home/ec2-user/studies/ALL-avillach-73-bdcatalyst-etl/stop-ii/decoded_data/p019.csv\n",
      "/home/ec2-user/studies/ALL-avillach-73-bdcatalyst-etl/stop-ii/decoded_data/p01a.csv\n",
      "/home/ec2-user/studies/ALL-avillach-73-bdcatalyst-etl/stop-ii/decoded_data/p01b.csv\n",
      "/home/ec2-user/studies/ALL-avillach-73-bdcatalyst-etl/stop-ii/decoded_data/p01c.csv\n",
      "/home/ec2-user/studies/ALL-avillach-73-bdcatalyst-etl/stop-ii/decoded_data/p020.csv\n",
      "/home/ec2-user/studies/ALL-avillach-73-bdcatalyst-etl/stop-ii/decoded_data/p021.csv\n",
      "/home/ec2-user/studies/ALL-avillach-73-bdcatalyst-etl/stop-ii/decoded_data/p022.csv\n",
      "/home/ec2-user/studies/ALL-avillach-73-bdcatalyst-etl/stop-ii/decoded_data/p024.csv\n",
      "/home/ec2-user/studies/ALL-avillach-73-bdcatalyst-etl/stop-ii/decoded_data/p030.csv\n",
      "/home/ec2-user/studies/ALL-avillach-73-bdcatalyst-etl/stop-ii/decoded_data/p031.csv\n",
      "/home/ec2-user/studies/ALL-avillach-73-bdcatalyst-etl/stop-ii/decoded_data/p032.csv\n",
      "/home/ec2-user/studies/ALL-avillach-73-bdcatalyst-etl/stop-ii/decoded_data/p033.csv\n",
      "/home/ec2-user/studies/ALL-avillach-73-bdcatalyst-etl/stop-ii/decoded_data/p040.csv\n",
      "/home/ec2-user/studies/ALL-avillach-73-bdcatalyst-etl/stop-ii/decoded_data/p052.csv\n",
      "/home/ec2-user/studies/ALL-avillach-73-bdcatalyst-etl/stop-ii/decoded_data/p13b.csv\n",
      "/home/ec2-user/studies/ALL-avillach-73-bdcatalyst-etl/stop-ii/decoded_data/p15a.csv\n",
      "/home/ec2-user/studies/ALL-avillach-73-bdcatalyst-etl/stop-ii/decoded_data/p16b.csv\n",
      "/home/ec2-user/studies/ALL-avillach-73-bdcatalyst-etl/stop-ii/decoded_data/p16r.csv\n",
      "/home/ec2-user/studies/ALL-avillach-73-bdcatalyst-etl/stop-ii/decoded_data/p18t.csv\n",
      "/home/ec2-user/studies/ALL-avillach-73-bdcatalyst-etl/stop-ii/decoded_data/p23a.csv\n",
      "/home/ec2-user/studies/ALL-avillach-73-bdcatalyst-etl/stop-ii/decoded_data/pnonstop2tcds.csv\n",
      "/home/ec2-user/studies/ALL-avillach-73-bdcatalyst-etl/stop-ii/decoded_data/pq30.csv\n",
      "/home/ec2-user/studies/ALL-avillach-73-bdcatalyst-etl/stop-ii/decoded_data/pq52.csv\n",
      "/home/ec2-user/studies/ALL-avillach-73-bdcatalyst-etl/stop-ii/decoded_data/prand_table.csv\n",
      "/home/ec2-user/studies/ALL-avillach-73-bdcatalyst-etl/stop-ii/decoded_data/prst2.csv\n"
     ]
    }
   ],
   "source": [
    "for path in stop_ii_files:\n",
    "    print(move_ids(path))"
   ]
  },
  {
   "cell_type": "code",
   "execution_count": null,
   "id": "e8a0148f",
   "metadata": {},
   "outputs": [],
   "source": []
  }
 ],
 "metadata": {
  "kernelspec": {
   "display_name": "conda_python3",
   "language": "python",
   "name": "conda_python3"
  },
  "language_info": {
   "codemirror_mode": {
    "name": "ipython",
    "version": 3
   },
   "file_extension": ".py",
   "mimetype": "text/x-python",
   "name": "python",
   "nbconvert_exporter": "python",
   "pygments_lexer": "ipython3",
   "version": "3.6.13"
  }
 },
 "nbformat": 4,
 "nbformat_minor": 5
}

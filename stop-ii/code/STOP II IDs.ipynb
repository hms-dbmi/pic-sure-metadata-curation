{
 "cells": [
  {
   "cell_type": "markdown",
   "id": "99e41d02",
   "metadata": {},
   "source": [
    "# STOP II data curation\n",
    "The PIC-SURE ETL pipeline assumes that the patient ID column of each data file is the first column. The STOP-II data files currently have the patient ID columns in places other than the first column. The purpose of this notebook is to move the patient ID column to the first column."
   ]
  },
  {
   "cell_type": "code",
   "execution_count": null,
   "id": "046c9913",
   "metadata": {},
   "outputs": [],
   "source": [
    "import glob\n",
    "import pandas as pd"
   ]
  },
  {
   "cell_type": "code",
   "execution_count": null,
   "id": "2634e59a",
   "metadata": {},
   "outputs": [],
   "source": [
    "stop_ii_files = glob.glob(\"/home/ec2-user/studies/ALL-avillach-73-bdcatalyst-etl/stop-ii/decoded_data/*\")"
   ]
  },
  {
   "cell_type": "code",
   "execution_count": null,
   "id": "8ee68adf",
   "metadata": {},
   "outputs": [],
   "source": [
    "def move_ids(path):\n",
    "    df = pd.read_csv(path)\n",
    "    first_column = df.pop('ldu_id')\n",
    "    # insert column using insert(position,column_name,first_column) function\n",
    "    df.insert(0, 'ldu_id', first_column)\n",
    "    df.to_csv(path, index=False)\n",
    "    return(path)"
   ]
  },
  {
   "cell_type": "code",
   "execution_count": null,
   "id": "3848f149",
   "metadata": {},
   "outputs": [],
   "source": [
    "move_ids(stop_ii_files[1])"
   ]
  },
  {
   "cell_type": "code",
   "execution_count": null,
   "id": "1f844f04",
   "metadata": {},
   "outputs": [],
   "source": [
    "for path in stop_ii_files:\n",
    "    print(move_ids(path))"
   ]
  },
  {
   "cell_type": "code",
   "execution_count": null,
   "id": "146f7c05",
   "metadata": {},
   "outputs": [],
   "source": []
  }
 ],
 "metadata": {
  "kernelspec": {
   "display_name": "conda_python3",
   "language": "python",
   "name": "conda_python3"
  },
  "language_info": {
   "codemirror_mode": {
    "name": "ipython",
    "version": 3
   },
   "file_extension": ".py",
   "mimetype": "text/x-python",
   "name": "python",
   "nbconvert_exporter": "python",
   "pygments_lexer": "ipython3",
   "version": "3.6.13"
  }
 },
 "nbformat": 4,
 "nbformat_minor": 5
}
